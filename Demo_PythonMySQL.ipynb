{
 "cells": [
  {
   "cell_type": "markdown",
   "id": "79e6d5c5",
   "metadata": {},
   "source": [
    "# Demo Manipulación de Datos en BD (Python+MySQL)"
   ]
  },
  {
   "cell_type": "markdown",
   "id": "4ad47339",
   "metadata": {},
   "source": [
    "### IPN UPIIC | Bases de Datos | Mtro. Carlos Basulto (2021)"
   ]
  },
  {
   "cell_type": "markdown",
   "id": "451c78ab",
   "metadata": {},
   "source": [
    "En Python comenzaremos por cargar la librería \"mySQL Connector\", previamente instalado el driver en el equipo.  El driver se encuentra en https://www.mysql.com/downloads/"
   ]
  },
  {
   "cell_type": "code",
   "execution_count": 5,
   "id": "06e163f3",
   "metadata": {},
   "outputs": [],
   "source": [
    "import mysql.connector as mysql"
   ]
  },
  {
   "cell_type": "markdown",
   "id": "409c9309",
   "metadata": {},
   "source": [
    "Ahora es necesario establecer la conexión a la base de datos, en este caso vamos a conectarnos a un servidor remoto que se encuentra en la nube.  Es importante recordar que para este paso ya debemos contar con un usuario y constraseña válidos para acceder al servidor y administrar bases de datos.\n",
    "\n",
    "También es importante recordar que tanto el firewall de la red como del servidor, deben permitir el tráfico al puerto del DBMS que estamos usando; para este caso el puerto de MySQL es el **TCP 3306**."
   ]
  },
  {
   "cell_type": "code",
   "execution_count": 7,
   "id": "2f0a84a1",
   "metadata": {},
   "outputs": [],
   "source": [
    "#Puede ser necesario actualizar los datos de conexión al servidor MySQL en AWS\n",
    "db=mysql.connect (\n",
    "    host=\"18.117.107.114\",\n",
    "    user=\"sysadmin\",\n",
    "    password=\"upiic2020\",\n",
    "    database=\"demojoin\"\n",
    ")"
   ]
  },
  {
   "cell_type": "markdown",
   "id": "32b36068",
   "metadata": {},
   "source": [
    "A fin de realizar las operaciones sobre la base de datos con el driver de mysql.connector es necesario definir una variable que hará uso de los métodos necesarios para manipular la estructura y datos de la base de datos a la que nos hemos conectado."
   ]
  },
  {
   "cell_type": "code",
   "execution_count": 16,
   "id": "f214677a",
   "metadata": {},
   "outputs": [],
   "source": [
    "cursor = db.cursor()"
   ]
  },
  {
   "cell_type": "markdown",
   "id": "aad58bbe",
   "metadata": {},
   "source": [
    "Para probar nuestra conexión ejecutaremos una sentencia de SQL a la base de datos, utilizando el método **\"EXECUTE\"** de la clase Cursor de mySQL Connector.  Puedes encontrar más información en https://dev.mysql.com/doc/connector-python/en/connector-python-api-mysqlcursor.html"
   ]
  },
  {
   "cell_type": "code",
   "execution_count": 17,
   "id": "a0d57906",
   "metadata": {},
   "outputs": [],
   "source": [
    "cursor.execute(\"SELECT * FROM alumno\")"
   ]
  },
  {
   "cell_type": "code",
   "execution_count": 18,
   "id": "99146774",
   "metadata": {},
   "outputs": [],
   "source": [
    "resultado = cursor.fetchall()"
   ]
  },
  {
   "cell_type": "code",
   "execution_count": 19,
   "id": "d740c4f0",
   "metadata": {},
   "outputs": [
    {
     "data": {
      "text/plain": [
       "[(24, 'Pedro T', 21, None),\n",
       " (34, 'Mina F', 22, None),\n",
       " (40, 'Melisa', None, None),\n",
       " (123, 'JOSE X', 21, None),\n",
       " (321, 'Pepe B', 18, None),\n",
       " (768, 'Gaby T', 21, None),\n",
       " (876, 'Myriam C', 19, None)]"
      ]
     },
     "execution_count": 19,
     "metadata": {},
     "output_type": "execute_result"
    }
   ],
   "source": [
    "resultado"
   ]
  },
  {
   "cell_type": "markdown",
   "id": "ea4c35a8",
   "metadata": {},
   "source": [
    "Confirmado que todo está bien, procedamos a insertar un dato a la tabla \"Alumno\" de la base de datos."
   ]
  },
  {
   "cell_type": "code",
   "execution_count": 20,
   "id": "42ccca60",
   "metadata": {},
   "outputs": [],
   "source": [
    "insertData = \"INSERT INTO alumno (idAlumno,nombreAlumno,edadAlumno) VALUES (%s,%s,%s)\""
   ]
  },
  {
   "cell_type": "code",
   "execution_count": 35,
   "id": "a0cf585b",
   "metadata": {},
   "outputs": [],
   "source": [
    "data=(26,\"Pedrito Rodriguez P\",18)"
   ]
  },
  {
   "cell_type": "code",
   "execution_count": 36,
   "id": "a0cf0268",
   "metadata": {},
   "outputs": [],
   "source": [
    "cursor.execute(insertData,data)"
   ]
  },
  {
   "cell_type": "markdown",
   "id": "df27c0ef",
   "metadata": {},
   "source": [
    "Veamos como quedo ingresada la nueva información en la tabla:"
   ]
  },
  {
   "cell_type": "code",
   "execution_count": 37,
   "id": "d0c02ce7",
   "metadata": {},
   "outputs": [],
   "source": [
    "cursor.execute(\"SELECT * FROM alumno\")"
   ]
  },
  {
   "cell_type": "code",
   "execution_count": 38,
   "id": "79fa4210",
   "metadata": {},
   "outputs": [],
   "source": [
    "resultado = cursor.fetchall()"
   ]
  },
  {
   "cell_type": "code",
   "execution_count": 39,
   "id": "af5fdf0b",
   "metadata": {},
   "outputs": [
    {
     "data": {
      "text/plain": [
       "[(24, 'Pedro T', 21, None),\n",
       " (25, 'Josefina P', 21, None),\n",
       " (26, 'Pedrito Rodriguez P', 18, None),\n",
       " (34, 'Mina F', 22, None),\n",
       " (40, 'Melisa', None, None),\n",
       " (123, 'JOSE X', 21, None),\n",
       " (321, 'Pepe B', 18, None),\n",
       " (768, 'Gaby T', 21, None),\n",
       " (876, 'Myriam C', 19, None)]"
      ]
     },
     "execution_count": 39,
     "metadata": {},
     "output_type": "execute_result"
    }
   ],
   "source": [
    "resultado"
   ]
  },
  {
   "cell_type": "raw",
   "id": "aafeafc7",
   "metadata": {},
   "source": [
    "Por último confirmemos los cambios a la base de datos a través del commando \"Commit\":"
   ]
  },
  {
   "cell_type": "code",
   "execution_count": 40,
   "id": "af757706",
   "metadata": {},
   "outputs": [],
   "source": [
    "db.commit()"
   ]
  },
  {
   "cell_type": "markdown",
   "id": "3bc1f3fc",
   "metadata": {},
   "source": [
    "## Ejemplo de Uso Datos Obtenido desde una Base de Datos"
   ]
  },
  {
   "cell_type": "markdown",
   "id": "5e0efb0b",
   "metadata": {},
   "source": [
    "Continuando con el ejemplo anterior, utilizaremos la libreria de Pandas para Python para observar una de tantas aplicaciones que se puede dar a una consulta de datos en una base de datos."
   ]
  },
  {
   "cell_type": "code",
   "execution_count": 41,
   "id": "18cc50d0",
   "metadata": {},
   "outputs": [],
   "source": [
    "import pandas as pd"
   ]
  },
  {
   "cell_type": "code",
   "execution_count": 42,
   "id": "54e9278b",
   "metadata": {},
   "outputs": [],
   "source": [
    "#Convertir el resultado del Query de SQL en un Datafrace en Pandas\n",
    "df = pd.DataFrame(resultado, columns=cursor.column_names)"
   ]
  },
  {
   "cell_type": "code",
   "execution_count": 43,
   "id": "518b94a9",
   "metadata": {},
   "outputs": [
    {
     "data": {
      "text/html": [
       "<div>\n",
       "<style scoped>\n",
       "    .dataframe tbody tr th:only-of-type {\n",
       "        vertical-align: middle;\n",
       "    }\n",
       "\n",
       "    .dataframe tbody tr th {\n",
       "        vertical-align: top;\n",
       "    }\n",
       "\n",
       "    .dataframe thead th {\n",
       "        text-align: right;\n",
       "    }\n",
       "</style>\n",
       "<table border=\"1\" class=\"dataframe\">\n",
       "  <thead>\n",
       "    <tr style=\"text-align: right;\">\n",
       "      <th></th>\n",
       "      <th>idAlumno</th>\n",
       "      <th>nombreAlumno</th>\n",
       "      <th>edadAlumno</th>\n",
       "      <th>alumnocol</th>\n",
       "    </tr>\n",
       "  </thead>\n",
       "  <tbody>\n",
       "    <tr>\n",
       "      <th>0</th>\n",
       "      <td>24</td>\n",
       "      <td>Pedro T</td>\n",
       "      <td>21.0</td>\n",
       "      <td>None</td>\n",
       "    </tr>\n",
       "    <tr>\n",
       "      <th>1</th>\n",
       "      <td>25</td>\n",
       "      <td>Josefina P</td>\n",
       "      <td>21.0</td>\n",
       "      <td>None</td>\n",
       "    </tr>\n",
       "    <tr>\n",
       "      <th>2</th>\n",
       "      <td>26</td>\n",
       "      <td>Pedrito Rodriguez P</td>\n",
       "      <td>18.0</td>\n",
       "      <td>None</td>\n",
       "    </tr>\n",
       "    <tr>\n",
       "      <th>3</th>\n",
       "      <td>34</td>\n",
       "      <td>Mina F</td>\n",
       "      <td>22.0</td>\n",
       "      <td>None</td>\n",
       "    </tr>\n",
       "    <tr>\n",
       "      <th>4</th>\n",
       "      <td>40</td>\n",
       "      <td>Melisa</td>\n",
       "      <td>NaN</td>\n",
       "      <td>None</td>\n",
       "    </tr>\n",
       "    <tr>\n",
       "      <th>5</th>\n",
       "      <td>123</td>\n",
       "      <td>JOSE X</td>\n",
       "      <td>21.0</td>\n",
       "      <td>None</td>\n",
       "    </tr>\n",
       "    <tr>\n",
       "      <th>6</th>\n",
       "      <td>321</td>\n",
       "      <td>Pepe B</td>\n",
       "      <td>18.0</td>\n",
       "      <td>None</td>\n",
       "    </tr>\n",
       "    <tr>\n",
       "      <th>7</th>\n",
       "      <td>768</td>\n",
       "      <td>Gaby T</td>\n",
       "      <td>21.0</td>\n",
       "      <td>None</td>\n",
       "    </tr>\n",
       "    <tr>\n",
       "      <th>8</th>\n",
       "      <td>876</td>\n",
       "      <td>Myriam C</td>\n",
       "      <td>19.0</td>\n",
       "      <td>None</td>\n",
       "    </tr>\n",
       "  </tbody>\n",
       "</table>\n",
       "</div>"
      ],
      "text/plain": [
       "   idAlumno         nombreAlumno  edadAlumno alumnocol\n",
       "0        24              Pedro T        21.0      None\n",
       "1        25           Josefina P        21.0      None\n",
       "2        26  Pedrito Rodriguez P        18.0      None\n",
       "3        34               Mina F        22.0      None\n",
       "4        40               Melisa         NaN      None\n",
       "5       123               JOSE X        21.0      None\n",
       "6       321               Pepe B        18.0      None\n",
       "7       768               Gaby T        21.0      None\n",
       "8       876             Myriam C        19.0      None"
      ]
     },
     "execution_count": 43,
     "metadata": {},
     "output_type": "execute_result"
    }
   ],
   "source": [
    "df"
   ]
  },
  {
   "cell_type": "code",
   "execution_count": 44,
   "id": "eefa311e",
   "metadata": {},
   "outputs": [],
   "source": [
    "standard_deviation = df['edadAlumno'].std()\n",
    "average = df['edadAlumno'].mean()\n",
    "med = df['edadAlumno'].median()"
   ]
  },
  {
   "cell_type": "code",
   "execution_count": 45,
   "id": "f5af39e0",
   "metadata": {},
   "outputs": [
    {
     "name": "stdout",
     "output_type": "stream",
     "text": [
      "La estadística descriptiva de los datos de calificaciones de alumnos es la siguiente:\n",
      "Desviación estándar: 1.5526475085202969\n",
      "Media: 20.125\n",
      "Mediana: 21.0\n"
     ]
    }
   ],
   "source": [
    "print(\"La estadística descriptiva de los datos de calificaciones de alumnos es la siguiente:\")\n",
    "print(\"Desviación estándar: \" + str(standard_deviation))\n",
    "print(\"Media: \" + str(average))\n",
    "print(\"Mediana: \"+ str(med))"
   ]
  },
  {
   "cell_type": "markdown",
   "id": "ae448499",
   "metadata": {},
   "source": [
    "Ahora experimenta y aprovecha el nuevo conocimiento para realizar tus programas y explotar el máximo la información."
   ]
  },
  {
   "cell_type": "markdown",
   "id": "c9738d71",
   "metadata": {},
   "source": [
    "Mtro. Carlos Basulto (2021).\n",
    "Bases de Datos | Ciencia de Datos.\n",
    "###### Unidad Profesional Interdisciplinaria de Ingeniería Campus Coahuila (2021)"
   ]
  },
  {
   "cell_type": "code",
   "execution_count": null,
   "id": "500aa8e6",
   "metadata": {},
   "outputs": [],
   "source": []
  }
 ],
 "metadata": {
  "kernelspec": {
   "display_name": "Python 3",
   "language": "python",
   "name": "python3"
  },
  "language_info": {
   "codemirror_mode": {
    "name": "ipython",
    "version": 3
   },
   "file_extension": ".py",
   "mimetype": "text/x-python",
   "name": "python",
   "nbconvert_exporter": "python",
   "pygments_lexer": "ipython3",
   "version": "3.8.10"
  }
 },
 "nbformat": 4,
 "nbformat_minor": 5
}
